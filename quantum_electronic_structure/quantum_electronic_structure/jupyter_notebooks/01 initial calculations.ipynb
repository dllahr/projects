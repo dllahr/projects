{
 "cells": [
  {
   "cell_type": "code",
   "execution_count": 1,
   "metadata": {},
   "outputs": [],
   "source": [
    "%matplotlib notebook\n",
    "\n",
    "import numpy\n",
    "\n",
    "import matplotlib.pyplot as pyplot\n",
    "import seaborn as sns\n",
    "sns.set(color_codes=True)"
   ]
  },
  {
   "cell_type": "code",
   "execution_count": 2,
   "metadata": {},
   "outputs": [
    {
     "name": "stdout",
     "output_type": "stream",
     "text": [
      "5.291772109e-11 50\n"
     ]
    }
   ],
   "source": [
    "distance_atomic_units = 5.291772109e-11 # in meters\n",
    "max_N_basis_each_dim = 50 #max number of plane wave basis functions in each dimension\n",
    "print(distance_atomic_units, max_N_basis_each_dim)"
   ]
  },
  {
   "cell_type": "code",
   "execution_count": 3,
   "metadata": {},
   "outputs": [
    {
     "name": "stdout",
     "output_type": "stream",
     "text": [
      "lattice_constant:  188.97261246364832\n",
      "H-atom radius in atomic units:   2.2676713495637797\n"
     ]
    }
   ],
   "source": [
    "lattice_constant = 100e-10 / distance_atomic_units  #100 Å converted to atomic units\n",
    "print(\"lattice_constant:  {}\".format(lattice_constant))\n",
    "print(\"H-atom radius in atomic units:  \", 1.2e-10 / distance_atomic_units)"
   ]
  },
  {
   "cell_type": "code",
   "execution_count": 4,
   "metadata": {},
   "outputs": [
    {
     "name": "stdout",
     "output_type": "stream",
     "text": [
      "6748334.494715145\n",
      "1.481847114696426e-07\n"
     ]
    }
   ],
   "source": [
    "unit_cell_volume = numpy.power(lattice_constant, 3.)\n",
    "print(unit_cell_volume)\n",
    "print(1./unit_cell_volume)"
   ]
  },
  {
   "cell_type": "code",
   "execution_count": 5,
   "metadata": {},
   "outputs": [
    {
     "name": "stdout",
     "output_type": "stream",
     "text": [
      "max_k:  1.6624592382105767\n",
      "max_KE:  1.3818853593558456\n"
     ]
    }
   ],
   "source": [
    "\"\"\" \n",
    "for each reciprical lattice dimension\n",
    "k = 2 pi m / lattice_constant\n",
    "where m is an integer >= 0\n",
    "\n",
    "kinetic energy of the waves is (atomic units):\n",
    "KE = k^2 / 2\n",
    "\n",
    "max k in single dimension:\n",
    "2 pi max_N_basis_each_dim / lattice_constant\n",
    "\n",
    "KE of above:\n",
    "((2 pi max_N_basis_each_dim) / lattice_constant)^2 / 2\n",
    "\n",
    "\"\"\" \n",
    "\n",
    "# maximum k in single dimension\n",
    "max_k = 2 * numpy.pi * max_N_basis_each_dim / lattice_constant\n",
    "print(\"max_k:  {}\".format(max_k))\n",
    "\n",
    "max_KE = max_k * max_k / 2.\n",
    "print(\"max_KE:  {}\".format(max_KE))"
   ]
  },
  {
   "cell_type": "code",
   "execution_count": 6,
   "metadata": {},
   "outputs": [
    {
     "name": "stdout",
     "output_type": "stream",
     "text": [
      "68389\n",
      "[(0, 0, 1), (0, 0, 2), (0, 0, 3), (0, 0, 4), (0, 0, 5), (0, 0, 6), (0, 0, 7), (0, 0, 8), (0, 0, 9), (0, 0, 10)]\n",
      "(68389, 3)\n",
      "[[ 0  0  1]\n",
      " [ 0  0  2]\n",
      " [ 0  0  3]\n",
      " [ 0  0  4]\n",
      " [ 0  0  5]\n",
      " [ 0  0  6]\n",
      " [ 0  0  7]\n",
      " [ 0  0  8]\n",
      " [ 0  0  9]\n",
      " [ 0  0 10]]\n"
     ]
    }
   ],
   "source": [
    "basis_k_indexes = []\n",
    "for i in range(max_N_basis_each_dim):\n",
    "    for j in range(max_N_basis_each_dim):\n",
    "        for k in range(max_N_basis_each_dim):\n",
    "            if i != 0 or j !=0 or k != 0:\n",
    "                t = numpy.sqrt(i*i + j*j + k*k)\n",
    "                if t <= max_N_basis_each_dim:\n",
    "                    basis_k_indexes.append((i,j,k))\n",
    "\n",
    "# for j in range(3):\n",
    "#     for i in range(1,max_N_basis_each_dim+1):\n",
    "#         cur_vect = numpy.zeros(3)\n",
    "#         cur_vect[j] = i\n",
    "#         basis_k_indexes.append(cur_vect)\n",
    "\n",
    "print(len(basis_k_indexes))\n",
    "print(basis_k_indexes[:10])\n",
    "basis_k_indexes = numpy.array(basis_k_indexes)\n",
    "print(basis_k_indexes.shape)\n",
    "print(basis_k_indexes[:10,:])"
   ]
  },
  {
   "cell_type": "code",
   "execution_count": 7,
   "metadata": {},
   "outputs": [
    {
     "name": "stdout",
     "output_type": "stream",
     "text": [
      "68389\n"
     ]
    }
   ],
   "source": [
    "N_basis = basis_k_indexes.shape[0]\n",
    "print(N_basis)"
   ]
  },
  {
   "cell_type": "code",
   "execution_count": 8,
   "metadata": {},
   "outputs": [
    {
     "name": "stdout",
     "output_type": "stream",
     "text": [
      "(68389,)\n",
      "[  1   4   9  16  25  36  49  64  81 100]\n",
      "k_coef 0.033249184764211535\n",
      "(68389,)\n",
      "[0.00110551 0.00442203 0.00994957 0.01768813 0.02763771 0.0397983\n",
      " 0.05416991 0.07075253 0.08954617 0.11055083]\n"
     ]
    }
   ],
   "source": [
    "basis_k_indexes_norm_sq = numpy.sum(numpy.power(basis_k_indexes, 2), axis=1)\n",
    "print(basis_k_indexes_norm_sq.shape)\n",
    "print(basis_k_indexes_norm_sq[:10])\n",
    "\n",
    "k_coef = 2. * numpy.pi / lattice_constant\n",
    "print(\"k_coef\", k_coef)\n",
    "\n",
    "basis_k_norm_sq = basis_k_indexes_norm_sq * numpy.power(k_coef, 2.0)\n",
    "print(basis_k_norm_sq.shape)\n",
    "print(basis_k_norm_sq[:10])"
   ]
  },
  {
   "cell_type": "code",
   "execution_count": 9,
   "metadata": {},
   "outputs": [
    {
     "name": "stdout",
     "output_type": "stream",
     "text": [
      "[0.00055275 0.00221102 0.00497479 0.00884407 0.01381885 0.01989915\n",
      " 0.02708495 0.03537627 0.04477309 0.05527541]\n"
     ]
    }
   ],
   "source": [
    "basis_KE = 0.5 * basis_k_norm_sq\n",
    "print(basis_KE[:10])"
   ]
  },
  {
   "cell_type": "code",
   "execution_count": 10,
   "metadata": {},
   "outputs": [
    {
     "name": "stdout",
     "output_type": "stream",
     "text": [
      "(68389, 68389)\n",
      "[[nan nan nan nan]\n",
      " [nan nan nan nan]\n",
      " [nan nan nan nan]\n",
      " [nan nan nan nan]]\n"
     ]
    }
   ],
   "source": [
    "# H_mat = numpy.zeros((N_basis, N_basis))\n",
    "H_mat = numpy.memmap(\"h_mat.bin\", dtype=numpy.float32, mode=\"w+\", shape=(N_basis, N_basis))\n",
    "H_mat[:] = numpy.nan\n",
    "print(H_mat.shape)\n",
    "print(H_mat[:4,:4])"
   ]
  },
  {
   "cell_type": "code",
   "execution_count": 11,
   "metadata": {},
   "outputs": [
    {
     "name": "stdout",
     "output_type": "stream",
     "text": [
      "pe_coef 7460.33971062631\n",
      "0\n",
      "1000\n",
      "2000\n",
      "3000\n",
      "4000\n",
      "5000\n",
      "6000\n",
      "7000\n",
      "8000\n",
      "9000\n",
      "10000\n",
      "11000\n",
      "12000\n",
      "13000\n",
      "14000\n",
      "15000\n",
      "16000\n",
      "17000\n",
      "18000\n",
      "19000\n",
      "20000\n",
      "21000\n",
      "22000\n",
      "23000\n",
      "24000\n",
      "25000\n",
      "26000\n",
      "27000\n",
      "28000\n",
      "29000\n",
      "30000\n",
      "31000\n",
      "32000\n",
      "33000\n",
      "34000\n",
      "35000\n",
      "36000\n",
      "37000\n",
      "38000\n",
      "39000\n",
      "40000\n",
      "41000\n",
      "42000\n",
      "43000\n",
      "44000\n",
      "45000\n",
      "46000\n",
      "47000\n",
      "48000\n",
      "49000\n",
      "50000\n",
      "51000\n",
      "52000\n",
      "53000\n",
      "54000\n",
      "55000\n",
      "56000\n",
      "57000\n",
      "58000\n",
      "59000\n",
      "60000\n",
      "61000\n",
      "62000\n",
      "63000\n",
      "64000\n",
      "65000\n",
      "66000\n",
      "67000\n",
      "68000\n",
      "[[           nan -1.3404216e-04 -3.3510540e-05 -1.4893572e-05]\n",
      " [           nan            nan -1.3404216e-04 -3.3510540e-05]\n",
      " [           nan            nan            nan -1.3404216e-04]\n",
      " [           nan            nan            nan            nan]]\n"
     ]
    }
   ],
   "source": [
    "N = N_basis\n",
    "\n",
    "pe_coef = unit_cell_volume * numpy.power(k_coef, 2.0)\n",
    "print(\"pe_coef\", pe_coef)\n",
    "\n",
    "for i in range(N):\n",
    "    b1 = basis_k_indexes[i, :]\n",
    "\n",
    "    b = basis_k_indexes[(i+1):, :] - b1\n",
    "#     print(b.shape)\n",
    "#     print(b)\n",
    "\n",
    "    b_norm_sq = numpy.sum(b * b, axis=1)\n",
    "#     print(b_norm_sq.shape)\n",
    "\n",
    "    cur_pe = -1. / (b_norm_sq * pe_coef)\n",
    "    \n",
    "    H_mat[i, (i+1):] = cur_pe\n",
    "    \n",
    "#     for j in range(i+1, N):\n",
    "#         b2 = basis_k_indexes[j, :]\n",
    "        \n",
    "#         b = b1 - b2\n",
    "#         b_norm_sq = numpy.sum(b * b)\n",
    "\n",
    "#         cur_pe = -1. / (b_norm_sq * pe_coef)\n",
    "# #         print(i,j, b1, b2, b, b_norm_sq, cur_pe)\n",
    "\n",
    "#         H_mat[i, j] = cur_pe\n",
    "    \n",
    "    if i%1000 == 0:\n",
    "        print(i)\n",
    "\n",
    "print(H_mat[:4, :4])"
   ]
  },
  {
   "cell_type": "code",
   "execution_count": null,
   "metadata": {},
   "outputs": [],
   "source": [
    "print(numpy.sum(numpy.isinf(H_mat)))"
   ]
  },
  {
   "cell_type": "code",
   "execution_count": null,
   "metadata": {},
   "outputs": [],
   "source": [
    "u = numpy.diag_indices(N_basis)\n",
    "h_diag = basis_KE #- (0.5 * lattice_constant * lattice_constant)\n",
    "H_mat[u] = h_diag\n",
    "print(H_mat[:4, :4])"
   ]
  },
  {
   "cell_type": "code",
   "execution_count": null,
   "metadata": {},
   "outputs": [],
   "source": []
  },
  {
   "cell_type": "code",
   "execution_count": null,
   "metadata": {},
   "outputs": [],
   "source": [
    "eigvals = numpy.memmap(\"eigvals.bin\", dtype=numpy.float32, mode=\"w+\", shape=H_mat.shape[0])\n",
    "eigmat = numpy.memmap(\"eigmat.bin\", dtype=numpy.float32, mode=\"w+\", shape=H_mat.shape)\n",
    "\n",
    "eigvals[:], eigmat[:] = numpy.linalg.eigh(H_mat, UPLO=\"U\")\n",
    "print(eigvals[:10])\n",
    "print(eigmat[:4, :4])"
   ]
  },
  {
   "cell_type": "code",
   "execution_count": null,
   "metadata": {},
   "outputs": [],
   "source": [
    "title = \"\"\"eigenvalues 1\"\"\"\n",
    "pyplot.figure(title)\n",
    "pyplot.plot(eigvals)"
   ]
  },
  {
   "cell_type": "code",
   "execution_count": null,
   "metadata": {
    "scrolled": false
   },
   "outputs": [],
   "source": [
    "N = N_basis\n",
    "\n",
    "basis_dim = 2\n",
    "cur_eig_vect = eigmat[:,0]\n",
    "\n",
    "x = numpy.linspace(-lattice_constant/2., lattice_constant/2., num=100)\n",
    "dx = x[1] - x[0]\n",
    "print(\"dx:  \", dx)\n",
    "\n",
    "# x = numpy.linspace(0., lattice_constant, num=100)\n",
    "y = numpy.zeros(x.shape[0])\n",
    "print(\"shapes:  \", x.shape, y.shape)\n",
    "\n",
    "for i in range(N):\n",
    "    cur_basis = basis_k_indexes[i,]\n",
    "#     print(cur_basis)\n",
    "    cur_k = cur_basis[basis_dim] * 2 * numpy.pi / lattice_constant\n",
    "#     print(cur_k)\n",
    "    cur_basis_r = numpy.exp(1j * cur_k * x)\n",
    "#     print(cur_basis_r[:10])\n",
    "    \n",
    "    y = y + cur_eig_vect[i] * cur_basis_r\n",
    "\n",
    "y = y*numpy.power(lattice_constant, -1.5)\n",
    "prob_dens = numpy.conj(y)*y\n",
    "t = numpy.sum(prob_dens)\n",
    "print(t, t*dx)\n",
    "\n",
    "\n",
    "title = \"\"\"wavefun 1\"\"\"\n",
    "pyplot.figure(title)\n",
    "pyplot.plot(x,numpy.real(y))\n",
    "pyplot.plot(x,numpy.imag(y))\n",
    "title = \"\"\"prob dens 1\"\"\"\n",
    "pyplot.figure(title)\n",
    "pyplot.plot(x,prob_dens)"
   ]
  },
  {
   "cell_type": "code",
   "execution_count": null,
   "metadata": {},
   "outputs": [],
   "source": [
    "pyplot.figure(-4)\n",
    "pyplot.plot(cur_eig_vect)\n",
    "\n",
    "t = sorted(cur_eig_vect)\n",
    "f = numpy.linspace(0., 1., num=len(t))\n",
    "\n",
    "pyplot.figure(4)\n",
    "pyplot.semilogx(t, f, '.')"
   ]
  },
  {
   "cell_type": "code",
   "execution_count": null,
   "metadata": {},
   "outputs": [],
   "source": [
    "cur_eig_vect"
   ]
  },
  {
   "cell_type": "code",
   "execution_count": null,
   "metadata": {},
   "outputs": [],
   "source": [
    "1.2e-10 / distance_atomic_units"
   ]
  }
 ],
 "metadata": {
  "kernelspec": {
   "display_name": "Python 3",
   "language": "python",
   "name": "python3"
  },
  "language_info": {
   "codemirror_mode": {
    "name": "ipython",
    "version": 3
   },
   "file_extension": ".py",
   "mimetype": "text/x-python",
   "name": "python",
   "nbconvert_exporter": "python",
   "pygments_lexer": "ipython3",
   "version": "3.7.3"
  }
 },
 "nbformat": 4,
 "nbformat_minor": 2
}
