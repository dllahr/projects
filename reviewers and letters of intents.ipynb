{
 "cells": [
  {
   "cell_type": "code",
   "execution_count": 112,
   "metadata": {},
   "outputs": [],
   "source": [
    "%matplotlib notebook\n",
    "\n",
    "import numpy\n",
    "import pandas\n",
    "import scipy\n",
    "\n",
    "import matplotlib.pyplot as pyplot\n",
    "import seaborn as sns\n",
    "sns.set(color_codes=True)"
   ]
  },
  {
   "cell_type": "markdown",
   "metadata": {},
   "source": [
    "from JZ:\n",
    "\n",
    "Also - I have a question for you: I'm trying to assign Reviewers to letters of intent.  I figure you can help me, haha. :)\n",
    "\n",
    "I have 151 LOIs in total, and would like each to be reviewed by 3 Reviewers out of a list of 22 (do I need 23?).  The max number of LOIs that I want each Reviewer to have is 20.\n",
    "\n",
    "Say the Reviewers are A-V, and LOIs are #1-151. What are the combinations of Reviewers for each LOI?  Do you know how to figure this out?\n",
    "\n",
    "I think this article might be relevant? https://stackoverflow.com/questions/48721368/combinations-with-max-repetitions-per-element\n",
    "\n",
    "And I might not have explained it properly earlier:\n",
    "We ran a grant competition with that had a Letter of Intent stage.  I need to assign 3 Reviewers to evaluate each LOI.  We got 151 LOIs in total. We have 22 Reviewers and I want them to review max 20 LOIs each.\n",
    "\n",
    "So it's like selecting 3 items out of 22 items (order is not important), but each item can only appear 20 times max.\n",
    "\n",
    "I want the combinations of Reviewers. :p  (I think I might need 23 Reviewers also)."
   ]
  },
  {
   "cell_type": "code",
   "execution_count": 93,
   "metadata": {},
   "outputs": [],
   "source": [
    "N_loi = 151\n",
    "N_reviewers = 22\n",
    "N_reviewers_per_loi = 3"
   ]
  },
  {
   "cell_type": "code",
   "execution_count": 170,
   "metadata": {},
   "outputs": [],
   "source": [
    "output_file_template = \"assigned_reviewers_to_LOI_r{}x{}.txt\""
   ]
  },
  {
   "cell_type": "code",
   "execution_count": 100,
   "metadata": {},
   "outputs": [
    {
     "name": "stdout",
     "output_type": "stream",
     "text": [
      "22\n",
      "['A', 'B', 'C', 'D', 'E', 'F', 'G', 'H', 'I', 'J', 'K', 'L', 'M', 'N', 'O', 'P', 'Q', 'R', 'S', 'T', 'U', 'V']\n"
     ]
    }
   ],
   "source": [
    "reviewers = [chr(65+i) for i in range(N_reviewers)]\n",
    "print(len(reviewers))\n",
    "print(reviewers)"
   ]
  },
  {
   "cell_type": "code",
   "execution_count": 94,
   "metadata": {},
   "outputs": [
    {
     "name": "stdout",
     "output_type": "stream",
     "text": [
      "462\n",
      "['A', 'B', 'C', 'D', 'E', 'F', 'G', 'H', 'I', 'J', 'K', 'L', 'M', 'N', 'O', 'P', 'Q', 'R', 'S', 'T', 'U', 'V', 'A', 'B', 'C', 'D', 'E', 'F', 'G', 'H', 'I', 'J', 'K', 'L', 'M', 'N', 'O', 'P', 'Q', 'R', 'S', 'T', 'U', 'V', 'A', 'B', 'C', 'D', 'E', 'F', 'G', 'H', 'I', 'J', 'K', 'L', 'M', 'N', 'O', 'P', 'Q', 'R', 'S', 'T', 'U', 'V', 'A', 'B', 'C', 'D', 'E', 'F', 'G', 'H', 'I', 'J', 'K', 'L', 'M', 'N', 'O', 'P', 'Q', 'R', 'S', 'T', 'U', 'V', 'A', 'B', 'C', 'D', 'E', 'F', 'G', 'H', 'I', 'J', 'K', 'L', 'M', 'N', 'O', 'P', 'Q', 'R', 'S', 'T', 'U', 'V', 'A', 'B', 'C', 'D', 'E', 'F', 'G', 'H', 'I', 'J', 'K', 'L', 'M', 'N', 'O', 'P', 'Q', 'R', 'S', 'T', 'U', 'V', 'A', 'B', 'C', 'D', 'E', 'F', 'G', 'H', 'I', 'J', 'K', 'L', 'M', 'N', 'O', 'P', 'Q', 'R', 'S', 'T', 'U', 'V', 'A', 'B', 'C', 'D', 'E', 'F', 'G', 'H', 'I', 'J', 'K', 'L', 'M', 'N', 'O', 'P', 'Q', 'R', 'S', 'T', 'U', 'V', 'A', 'B', 'C', 'D', 'E', 'F', 'G', 'H', 'I', 'J', 'K', 'L', 'M', 'N', 'O', 'P', 'Q', 'R', 'S', 'T', 'U', 'V', 'A', 'B', 'C', 'D', 'E', 'F', 'G', 'H', 'I', 'J', 'K', 'L', 'M', 'N', 'O', 'P', 'Q', 'R', 'S', 'T', 'U', 'V', 'A', 'B', 'C', 'D', 'E', 'F', 'G', 'H', 'I', 'J', 'K', 'L', 'M', 'N', 'O', 'P', 'Q', 'R', 'S', 'T', 'U', 'V', 'A', 'B', 'C', 'D', 'E', 'F', 'G', 'H', 'I', 'J', 'K', 'L', 'M', 'N', 'O', 'P', 'Q', 'R', 'S', 'T', 'U', 'V', 'A', 'B', 'C', 'D', 'E', 'F', 'G', 'H', 'I', 'J', 'K', 'L', 'M', 'N', 'O', 'P', 'Q', 'R', 'S', 'T', 'U', 'V', 'A', 'B', 'C', 'D', 'E', 'F', 'G', 'H', 'I', 'J', 'K', 'L', 'M', 'N', 'O', 'P', 'Q', 'R', 'S', 'T', 'U', 'V', 'A', 'B', 'C', 'D', 'E', 'F', 'G', 'H', 'I', 'J', 'K', 'L', 'M', 'N', 'O', 'P', 'Q', 'R', 'S', 'T', 'U', 'V', 'A', 'B', 'C', 'D', 'E', 'F', 'G', 'H', 'I', 'J', 'K', 'L', 'M', 'N', 'O', 'P', 'Q', 'R', 'S', 'T', 'U', 'V', 'A', 'B', 'C', 'D', 'E', 'F', 'G', 'H', 'I', 'J', 'K', 'L', 'M', 'N', 'O', 'P', 'Q', 'R', 'S', 'T', 'U', 'V', 'A', 'B', 'C', 'D', 'E', 'F', 'G', 'H', 'I', 'J', 'K', 'L', 'M', 'N', 'O', 'P', 'Q', 'R', 'S', 'T', 'U', 'V', 'A', 'B', 'C', 'D', 'E', 'F', 'G', 'H', 'I', 'J', 'K', 'L', 'M', 'N', 'O', 'P', 'Q', 'R', 'S', 'T', 'U', 'V', 'A', 'B', 'C', 'D', 'E', 'F', 'G', 'H', 'I', 'J', 'K', 'L', 'M', 'N', 'O', 'P', 'Q', 'R', 'S', 'T', 'U', 'V', 'A', 'B', 'C', 'D', 'E', 'F', 'G', 'H', 'I', 'J', 'K', 'L', 'M']\n"
     ]
    }
   ],
   "source": [
    "reviewer_list = []\n",
    "while len(reviewer_list) < N_loi*N_reviewers_per_loi:\n",
    "    reviewer_list.extend(reviewers)\n",
    "print(len(reviewer_list))\n",
    "reviewer_list = reviewer_list[:N_loi*N_reviewers_per_loi]\n",
    "print(reviewer_list)"
   ]
  },
  {
   "cell_type": "code",
   "execution_count": 95,
   "metadata": {},
   "outputs": [
    {
     "name": "stdout",
     "output_type": "stream",
     "text": [
      "[76, 98, 82, 95, 25, 16, 75, 78, 104, 13]\n",
      "[4, 6, 90, 48, 69, 119, 143, 71, 31, 52]\n",
      "[97, 65, 89, 0, 3, 142, 88, 150, 52, 16]\n",
      "453\n"
     ]
    }
   ],
   "source": [
    "loi_list = []\n",
    "for i in range(N_reviewers_per_loi):\n",
    "    t = list(range(N_loi))\n",
    "    numpy.random.shuffle(t)\n",
    "    print(t[:10])\n",
    "    loi_list.extend(t)\n",
    "print(len(loi_list))"
   ]
  },
  {
   "cell_type": "code",
   "execution_count": 96,
   "metadata": {},
   "outputs": [
    {
     "name": "stdout",
     "output_type": "stream",
     "text": [
      "(453, 2)\n"
     ]
    },
    {
     "data": {
      "text/html": [
       "<div>\n",
       "<style scoped>\n",
       "    .dataframe tbody tr th:only-of-type {\n",
       "        vertical-align: middle;\n",
       "    }\n",
       "\n",
       "    .dataframe tbody tr th {\n",
       "        vertical-align: top;\n",
       "    }\n",
       "\n",
       "    .dataframe thead th {\n",
       "        text-align: right;\n",
       "    }\n",
       "</style>\n",
       "<table border=\"1\" class=\"dataframe\">\n",
       "  <thead>\n",
       "    <tr style=\"text-align: right;\">\n",
       "      <th></th>\n",
       "      <th>loi_ID</th>\n",
       "      <th>reviewer_ID</th>\n",
       "    </tr>\n",
       "  </thead>\n",
       "  <tbody>\n",
       "    <tr>\n",
       "      <th>0</th>\n",
       "      <td>76</td>\n",
       "      <td>A</td>\n",
       "    </tr>\n",
       "    <tr>\n",
       "      <th>1</th>\n",
       "      <td>98</td>\n",
       "      <td>B</td>\n",
       "    </tr>\n",
       "    <tr>\n",
       "      <th>2</th>\n",
       "      <td>82</td>\n",
       "      <td>C</td>\n",
       "    </tr>\n",
       "    <tr>\n",
       "      <th>3</th>\n",
       "      <td>95</td>\n",
       "      <td>D</td>\n",
       "    </tr>\n",
       "    <tr>\n",
       "      <th>4</th>\n",
       "      <td>25</td>\n",
       "      <td>E</td>\n",
       "    </tr>\n",
       "  </tbody>\n",
       "</table>\n",
       "</div>"
      ],
      "text/plain": [
       "   loi_ID reviewer_ID\n",
       "0      76           A\n",
       "1      98           B\n",
       "2      82           C\n",
       "3      95           D\n",
       "4      25           E"
      ]
     },
     "metadata": {},
     "output_type": "display_data"
    }
   ],
   "source": [
    "df = pandas.DataFrame({\"loi_ID\":loi_list, \"reviewer_ID\":reviewer_list})\n",
    "print(df.shape)\n",
    "display(df.head())"
   ]
  },
  {
   "cell_type": "code",
   "execution_count": 97,
   "metadata": {},
   "outputs": [
    {
     "data": {
      "text/plain": [
       "array([3])"
      ]
     },
     "execution_count": 97,
     "metadata": {},
     "output_type": "execute_result"
    }
   ],
   "source": [
    "# sanity check - does each LOI have 3 reviewers:\n",
    "df.groupby(\"loi_ID\").count().reviewer_ID.unique()"
   ]
  },
  {
   "cell_type": "code",
   "execution_count": 98,
   "metadata": {},
   "outputs": [
    {
     "name": "stdout",
     "output_type": "stream",
     "text": [
      "40 ['B', 'H', 'T'] [28, 40]\n",
      "131 ['H', 'N', 'P'] [18, 131]\n"
     ]
    }
   ],
   "source": [
    "check_loi_reviewer_groups_dict = {}\n",
    "\n",
    "for i in range(N_loi):\n",
    "    t = df.loc[df.loi_ID == i, \"reviewer_ID\"].to_list()\n",
    "    t.sort()\n",
    "    \n",
    "    t_repr = t.__repr__()\n",
    "    if t_repr in check_loi_reviewer_groups_dict:\n",
    "        check_loi_reviewer_groups_dict[t_repr].append(i)\n",
    "        print(i, t_repr, check_loi_reviewer_groups_dict[t_repr])\n",
    "    else:\n",
    "        check_loi_reviewer_groups_dict[t_repr] = [i]"
   ]
  },
  {
   "cell_type": "code",
   "execution_count": 99,
   "metadata": {},
   "outputs": [
    {
     "data": {
      "text/html": [
       "<div>\n",
       "<style scoped>\n",
       "    .dataframe tbody tr th:only-of-type {\n",
       "        vertical-align: middle;\n",
       "    }\n",
       "\n",
       "    .dataframe tbody tr th {\n",
       "        vertical-align: top;\n",
       "    }\n",
       "\n",
       "    .dataframe thead th {\n",
       "        text-align: right;\n",
       "    }\n",
       "</style>\n",
       "<table border=\"1\" class=\"dataframe\">\n",
       "  <thead>\n",
       "    <tr style=\"text-align: right;\">\n",
       "      <th></th>\n",
       "      <th>loi_ID</th>\n",
       "    </tr>\n",
       "    <tr>\n",
       "      <th>reviewer_ID</th>\n",
       "      <th></th>\n",
       "    </tr>\n",
       "  </thead>\n",
       "  <tbody>\n",
       "    <tr>\n",
       "      <th>A</th>\n",
       "      <td>21</td>\n",
       "    </tr>\n",
       "    <tr>\n",
       "      <th>B</th>\n",
       "      <td>21</td>\n",
       "    </tr>\n",
       "    <tr>\n",
       "      <th>C</th>\n",
       "      <td>21</td>\n",
       "    </tr>\n",
       "    <tr>\n",
       "      <th>D</th>\n",
       "      <td>21</td>\n",
       "    </tr>\n",
       "    <tr>\n",
       "      <th>E</th>\n",
       "      <td>21</td>\n",
       "    </tr>\n",
       "    <tr>\n",
       "      <th>F</th>\n",
       "      <td>21</td>\n",
       "    </tr>\n",
       "    <tr>\n",
       "      <th>G</th>\n",
       "      <td>21</td>\n",
       "    </tr>\n",
       "    <tr>\n",
       "      <th>H</th>\n",
       "      <td>21</td>\n",
       "    </tr>\n",
       "    <tr>\n",
       "      <th>I</th>\n",
       "      <td>21</td>\n",
       "    </tr>\n",
       "    <tr>\n",
       "      <th>J</th>\n",
       "      <td>21</td>\n",
       "    </tr>\n",
       "    <tr>\n",
       "      <th>K</th>\n",
       "      <td>21</td>\n",
       "    </tr>\n",
       "    <tr>\n",
       "      <th>L</th>\n",
       "      <td>21</td>\n",
       "    </tr>\n",
       "    <tr>\n",
       "      <th>M</th>\n",
       "      <td>21</td>\n",
       "    </tr>\n",
       "    <tr>\n",
       "      <th>N</th>\n",
       "      <td>20</td>\n",
       "    </tr>\n",
       "    <tr>\n",
       "      <th>O</th>\n",
       "      <td>20</td>\n",
       "    </tr>\n",
       "    <tr>\n",
       "      <th>P</th>\n",
       "      <td>20</td>\n",
       "    </tr>\n",
       "    <tr>\n",
       "      <th>Q</th>\n",
       "      <td>20</td>\n",
       "    </tr>\n",
       "    <tr>\n",
       "      <th>R</th>\n",
       "      <td>20</td>\n",
       "    </tr>\n",
       "    <tr>\n",
       "      <th>S</th>\n",
       "      <td>20</td>\n",
       "    </tr>\n",
       "    <tr>\n",
       "      <th>T</th>\n",
       "      <td>20</td>\n",
       "    </tr>\n",
       "    <tr>\n",
       "      <th>U</th>\n",
       "      <td>20</td>\n",
       "    </tr>\n",
       "    <tr>\n",
       "      <th>V</th>\n",
       "      <td>20</td>\n",
       "    </tr>\n",
       "  </tbody>\n",
       "</table>\n",
       "</div>"
      ],
      "text/plain": [
       "             loi_ID\n",
       "reviewer_ID        \n",
       "A                21\n",
       "B                21\n",
       "C                21\n",
       "D                21\n",
       "E                21\n",
       "F                21\n",
       "G                21\n",
       "H                21\n",
       "I                21\n",
       "J                21\n",
       "K                21\n",
       "L                21\n",
       "M                21\n",
       "N                20\n",
       "O                20\n",
       "P                20\n",
       "Q                20\n",
       "R                20\n",
       "S                20\n",
       "T                20\n",
       "U                20\n",
       "V                20"
      ]
     },
     "execution_count": 99,
     "metadata": {},
     "output_type": "execute_result"
    }
   ],
   "source": [
    "df.groupby(\"reviewer_ID\").count()"
   ]
  },
  {
   "cell_type": "code",
   "execution_count": 169,
   "metadata": {},
   "outputs": [
    {
     "name": "stdout",
     "output_type": "stream",
     "text": [
      "(151, 3)\n"
     ]
    },
    {
     "data": {
      "text/html": [
       "<div>\n",
       "<style scoped>\n",
       "    .dataframe tbody tr th:only-of-type {\n",
       "        vertical-align: middle;\n",
       "    }\n",
       "\n",
       "    .dataframe tbody tr th {\n",
       "        vertical-align: top;\n",
       "    }\n",
       "\n",
       "    .dataframe thead th {\n",
       "        text-align: right;\n",
       "    }\n",
       "</style>\n",
       "<table border=\"1\" class=\"dataframe\">\n",
       "  <thead>\n",
       "    <tr style=\"text-align: right;\">\n",
       "      <th></th>\n",
       "      <th>reviewer1</th>\n",
       "      <th>reviewer2</th>\n",
       "      <th>reviewer3</th>\n",
       "    </tr>\n",
       "    <tr>\n",
       "      <th>loi_ID</th>\n",
       "      <th></th>\n",
       "      <th></th>\n",
       "      <th></th>\n",
       "    </tr>\n",
       "  </thead>\n",
       "  <tbody>\n",
       "    <tr>\n",
       "      <th>0</th>\n",
       "      <td>H</td>\n",
       "      <td>I</td>\n",
       "      <td>T</td>\n",
       "    </tr>\n",
       "    <tr>\n",
       "      <th>1</th>\n",
       "      <td>F</td>\n",
       "      <td>L</td>\n",
       "      <td>S</td>\n",
       "    </tr>\n",
       "    <tr>\n",
       "      <th>2</th>\n",
       "      <td>C</td>\n",
       "      <td>I</td>\n",
       "      <td>P</td>\n",
       "    </tr>\n",
       "    <tr>\n",
       "      <th>3</th>\n",
       "      <td>N</td>\n",
       "      <td>U</td>\n",
       "      <td>U</td>\n",
       "    </tr>\n",
       "    <tr>\n",
       "      <th>4</th>\n",
       "      <td>E</td>\n",
       "      <td>J</td>\n",
       "      <td>T</td>\n",
       "    </tr>\n",
       "  </tbody>\n",
       "</table>\n",
       "</div>"
      ],
      "text/plain": [
       "       reviewer1 reviewer2 reviewer3\n",
       "loi_ID                              \n",
       "0              H         I         T\n",
       "1              F         L         S\n",
       "2              C         I         P\n",
       "3              N         U         U\n",
       "4              E         J         T"
      ]
     },
     "metadata": {},
     "output_type": "display_data"
    }
   ],
   "source": [
    "u = list()\n",
    "for cur_loi_ID, vals in df.sort_values(\"loi_ID\").groupby(\"loi_ID\"):\n",
    "    t = vals.reviewer_ID.to_list()\n",
    "    t.sort()\n",
    "#     print(cur_loi_ID, t)\n",
    "    u.append(t)\n",
    "\n",
    "assigned_df = pandas.DataFrame({\"reviewer1\":[x[0] for x in u]}, index=range(N_loi))\n",
    "assigned_df.index.name = \"loi_ID\"\n",
    "assigned_df[\"reviewer2\"] = [x[1] for x in u]\n",
    "assigned_df[\"reviewer3\"] = [x[2] for x in u]\n",
    "print(assigned_df.shape)\n",
    "display(assigned_df.head())"
   ]
  },
  {
   "cell_type": "code",
   "execution_count": 172,
   "metadata": {},
   "outputs": [
    {
     "name": "stdout",
     "output_type": "stream",
     "text": [
      "assigned_reviewers_to_LOI_r151x3.txt\n"
     ]
    }
   ],
   "source": [
    "output_file = output_file_template.format(assigned_df.shape[0], assigned_df.shape[1])\n",
    "print(output_file)\n",
    "assigned_df.to_csv(output_file, sep=\"\\t\")"
   ]
  },
  {
   "cell_type": "code",
   "execution_count": 154,
   "metadata": {},
   "outputs": [
    {
     "name": "stdout",
     "output_type": "stream",
     "text": [
      "(1540, 4)\n",
      "[21. 21. 21. 21. 21. 21. 21. 21. 21. 21. 21. 21. 21. 21. 21. 21. 21. 21.\n",
      " 19. 18. 14. 12.]\n",
      "1540\n",
      "[[ 0  1  2  1]\n",
      " [ 0  1  3  1]\n",
      " [ 0  1  4  1]\n",
      " [ 0  1  5  1]\n",
      " [ 0  1  6  1]\n",
      " [ 0  1  7  1]\n",
      " [ 0  1  8  1]\n",
      " [ 0  1  9  1]\n",
      " [ 0  1 10  1]\n",
      " [ 0  1 11  1]]\n"
     ]
    }
   ],
   "source": [
    "######################################\n",
    "##### switchng to combinatorics method\n",
    "######################################\n",
    "N_reviewer_combinations = scipy.special.comb(N_reviewers, 3, exact=True)\n",
    "limit = 21\n",
    "\n",
    "reviewer_combinations = numpy.zeros((N_reviewer_combinations, 4), dtype=int)\n",
    "print(reviewer_combinations.shape)\n",
    "# reviewer_combinations[:] = numpy.nan\n",
    "\n",
    "used_reviewers = numpy.zeros(N_reviewers)\n",
    "\n",
    "index = 0\n",
    "for i in range(N_reviewers):\n",
    "    for j in range(i+1, N_reviewers):\n",
    "        for k in range(j+1, N_reviewers):\n",
    "            reviewer_combinations[index, :3] = [i, j, k]\n",
    "            \n",
    "            if (used_reviewers[i] < limit) and (used_reviewers[j] < limit) and used_reviewers[k] < limit:\n",
    "                reviewer_combinations[index, 3] = 1\n",
    "                used_reviewers[[i,j,k]] = used_reviewers[[i,j,k]] + 1\n",
    "            \n",
    "            index = index + 1\n",
    "\n",
    "print(used_reviewers)\n",
    "print(len(reviewer_combinations))\n",
    "print(reviewer_combinations[:10])"
   ]
  },
  {
   "cell_type": "code",
   "execution_count": 163,
   "metadata": {},
   "outputs": [
    {
     "name": "stdout",
     "output_type": "stream",
     "text": [
      "[17 20 21  1]\n",
      "148\n"
     ]
    }
   ],
   "source": [
    "# p0 = reviewer_combinations[:, 0] == 0\n",
    "# p1 = reviewer_combinations[:, 1] == 1\n",
    "# p2 = reviewer_combinations[:, 2] == 2\n",
    "# reviewer_combinations[p0 & p1 & p2, 3] = 0\n",
    "reviewer_combinations[-5, 3] = 1\n",
    "print(reviewer_combinations[-5,:])\n",
    "\n",
    "p0 = reviewer_combinations[:, 3] == 1\n",
    "print(sum(p0))"
   ]
  },
  {
   "cell_type": "code",
   "execution_count": 121,
   "metadata": {},
   "outputs": [
    {
     "name": "stdout",
     "output_type": "stream",
     "text": [
      "[1376, 127, 207, 629, 1207, 34, 451, 710, 841, 788]\n"
     ]
    }
   ],
   "source": [
    "#######################\n",
    "# attempt w/ sorting combinations\n",
    "#######################\n",
    "reviewer_comb_choices = list(range(N_reviewer_combinations))\n",
    "numpy.random.shuffle(reviewer_comb_choices)\n",
    "print(reviewer_comb_choices[:10])"
   ]
  },
  {
   "cell_type": "code",
   "execution_count": 125,
   "metadata": {
    "scrolled": true
   },
   "outputs": [
    {
     "name": "stdout",
     "output_type": "stream",
     "text": [
      "[[ 0  1  9  1]\n",
      " [ 0  1 14  1]\n",
      " [ 0  2 17  1]\n",
      " [ 0  3 16  1]\n",
      " [ 0  5  6  1]\n",
      " [ 0  5 21  1]\n",
      " [ 0  6  8  1]\n",
      " [ 0  6 19  1]\n",
      " [ 0  7 19  1]\n",
      " [ 0  8 17  1]\n",
      " [ 0  9 18  1]\n",
      " [ 0  9 21  1]\n",
      " [ 0 10 17  1]\n",
      " [ 0 11 13  1]\n",
      " [ 0 11 20  1]\n",
      " [ 0 14 18  1]\n",
      " [ 0 15 17  1]\n",
      " [ 0 16 17  1]\n",
      " [ 0 16 19  1]\n",
      " [ 0 19 20  1]\n",
      " [ 0 20 21  1]\n",
      " [ 1  2  7  1]\n",
      " [ 1  2 17  1]\n",
      " [ 1  4  6  1]\n",
      " [ 1  4  7  1]\n",
      " [ 1  6 10  1]\n",
      " [ 1  7 16  1]\n",
      " [ 1  8 13  1]\n",
      " [ 1 11 14  1]\n",
      " [ 1 11 15  1]\n",
      " [ 1 14 15  1]\n",
      " [ 1 16 19  1]\n",
      " [ 1 17 18  1]\n",
      " [ 1 18 19  1]\n",
      " [ 2  3  8  1]\n",
      " [ 2  3 12  1]\n",
      " [ 2  3 13  1]\n",
      " [ 2  3 16  1]\n",
      " [ 2  4  8  1]\n",
      " [ 2  4 13  1]\n",
      " [ 2  4 17  1]\n",
      " [ 2  5 20  1]\n",
      " [ 2  6  7  1]\n",
      " [ 2  6 10  1]\n",
      " [ 2  6 19  1]\n",
      " [ 2  7  9  1]\n",
      " [ 2  7 14  1]\n",
      " [ 2  9 12  1]\n",
      " [ 2  9 19  1]\n",
      " [ 2 10 12  1]\n",
      " [ 2 10 21  1]\n",
      " [ 2 11 14  1]\n",
      " [ 2 13 17  1]\n",
      " [ 2 13 19  1]\n",
      " [ 2 15 18  1]\n",
      " [ 2 16 21  1]\n",
      " [ 3  6 12  1]\n",
      " [ 3  6 13  1]\n",
      " [ 3  7 18  1]\n",
      " [ 3  8 10  1]\n",
      " [ 3 11 14  1]\n",
      " [ 3 11 19  1]\n",
      " [ 3 12 21  1]\n",
      " [ 3 14 17  1]\n",
      " [ 3 15 16  1]\n",
      " [ 3 16 18  1]\n",
      " [ 3 18 21  1]\n",
      " [ 4  6 15  1]\n",
      " [ 4  7 10  1]\n",
      " [ 4  7 17  1]\n",
      " [ 4  8 21  1]\n",
      " [ 4  9 13  1]\n",
      " [ 4  9 16  1]\n",
      " [ 4 10 14  1]\n",
      " [ 4 10 18  1]\n",
      " [ 4 11 20  1]\n",
      " [ 4 13 18  1]\n",
      " [ 4 13 20  1]\n",
      " [ 4 15 18  1]\n",
      " [ 4 18 19  1]\n",
      " [ 5  6 19  1]\n",
      " [ 5  7 11  1]\n",
      " [ 5  7 16  1]\n",
      " [ 5  7 19  1]\n",
      " [ 5  8 20  1]\n",
      " [ 5  9 13  1]\n",
      " [ 5  9 17  1]\n",
      " [ 5 14 17  1]\n",
      " [ 6  7 14  1]\n",
      " [ 6  9 12  1]\n",
      " [ 6  9 17  1]\n",
      " [ 6  9 19  1]\n",
      " [ 6 10 14  1]\n",
      " [ 6 10 16  1]\n",
      " [ 6 11 12  1]\n",
      " [ 6 11 16  1]\n",
      " [ 6 11 17  1]\n",
      " [ 6 13 17  1]\n",
      " [ 6 15 16  1]\n",
      " [ 6 17 18  1]\n",
      " [ 6 18 20  1]\n",
      " [ 7  8 13  1]\n",
      " [ 7  8 18  1]\n",
      " [ 7  9 10  1]\n",
      " [ 7  9 16  1]\n",
      " [ 7  9 19  1]\n",
      " [ 7 10 19  1]\n",
      " [ 7 11 13  1]\n",
      " [ 7 11 15  1]\n",
      " [ 7 12 19  1]\n",
      " [ 7 13 16  1]\n",
      " [ 7 16 19  1]\n",
      " [ 7 16 21  1]\n",
      " [ 7 17 18  1]\n",
      " [ 8 10 17  1]\n",
      " [ 8 11 19  1]\n",
      " [ 8 11 20  1]\n",
      " [ 8 13 15  1]\n",
      " [ 8 13 18  1]\n",
      " [ 8 15 21  1]\n",
      " [ 8 20 21  1]\n",
      " [ 9 10 12  1]\n",
      " [ 9 12 13  1]\n",
      " [ 9 12 19  1]\n",
      " [ 9 13 14  1]\n",
      " [ 9 13 20  1]\n",
      " [ 9 14 19  1]\n",
      " [ 9 16 20  1]\n",
      " [10 11 16  1]\n",
      " [10 14 16  1]\n",
      " [10 16 19  1]\n",
      " [10 20 21  1]\n",
      " [11 12 14  1]\n",
      " [11 12 20  1]\n",
      " [11 13 21  1]\n",
      " [11 15 18  1]\n",
      " [11 18 20  1]\n",
      " [11 19 20  1]\n",
      " [12 14 19  1]\n",
      " [12 15 16  1]\n",
      " [12 17 20  1]\n",
      " [12 17 21  1]\n",
      " [13 15 18  1]\n",
      " [13 15 21  1]\n",
      " [13 16 20  1]\n",
      " [14 15 16  1]\n",
      " [14 16 21  1]\n",
      " [15 17 18  1]\n",
      " [16 17 21  1]\n",
      " [16 19 21  1]\n",
      " [18 19 21  1]]\n"
     ]
    }
   ],
   "source": [
    "for i in range(N_loi):\n",
    "    cur_comb_choice = reviewer_comb_choices[i]\n",
    "    reviewer_combinations[cur_comb_choice,3] = 1\n",
    "print(reviewer_combinations[reviewer_combinations[:,3] == 1])"
   ]
  },
  {
   "cell_type": "code",
   "execution_count": 129,
   "metadata": {},
   "outputs": [
    {
     "name": "stdout",
     "output_type": "stream",
     "text": [
      "151\n",
      "210 0 0\n",
      "21\n",
      "210 0 0 210 21\n",
      "190 20 0 210 15\n",
      "171 38 1 210 25\n",
      "153 54 3 210 16\n",
      "136 68 6 210 18\n",
      "120 80 10 210 11\n",
      "105 90 15 210 25\n",
      "91 98 21 210 27\n",
      "78 104 28 210 17\n",
      "66 108 36 210 23\n",
      "55 110 45 210 19\n",
      "45 110 55 210 23\n",
      "36 108 66 210 17\n",
      "28 104 78 210 24\n",
      "21 98 91 210 19\n",
      "15 90 105 210 17\n",
      "10 80 120 210 28\n",
      "6 68 136 210 23\n",
      "3 54 153 210 22\n",
      "1 38 171 210 26\n",
      "0 20 190 210 18\n",
      "0 0 210 210 19\n"
     ]
    }
   ],
   "source": [
    "p1 = reviewer_combinations[:,0] == 0\n",
    "p2 = reviewer_combinations[:,1] == 0\n",
    "p3 = reviewer_combinations[:,2] == 0\n",
    "\n",
    "print(sum(p1), sum(p2), sum(p3))\n",
    "print(sum(p0 & (p1 | p2 | p3)))\n",
    "\n",
    "for i in range(N_reviewers):\n",
    "    p1 = reviewer_combinations[:,0] == i\n",
    "    p2 = reviewer_combinations[:,1] == i\n",
    "    p3 = reviewer_combinations[:,2] == i\n",
    "    \n",
    "    p_loc = p1 | p2 | p3\n",
    "    \n",
    "    print(sum(p1), sum(p2), sum(p3), sum(p_loc), sum(p0 & p_loc))"
   ]
  }
 ],
 "metadata": {
  "kernelspec": {
   "display_name": "Python 3",
   "language": "python",
   "name": "python3"
  },
  "language_info": {
   "codemirror_mode": {
    "name": "ipython",
    "version": 3
   },
   "file_extension": ".py",
   "mimetype": "text/x-python",
   "name": "python",
   "nbconvert_exporter": "python",
   "pygments_lexer": "ipython3",
   "version": "3.7.2"
  }
 },
 "nbformat": 4,
 "nbformat_minor": 2
}
